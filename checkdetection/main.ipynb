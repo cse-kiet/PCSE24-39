{
 "cells": [
  {
   "cell_type": "code",
   "execution_count": 1,
   "metadata": {},
   "outputs": [
    {
     "name": "stdout",
     "output_type": "stream",
     "text": [
      "End of Computer Vision quickstart.\n"
     ]
    }
   ],
   "source": [
    "import cv2 as cv\n",
    "import os\n",
    "import api"
   ]
  },
  {
   "cell_type": "code",
   "execution_count": 2,
   "metadata": {},
   "outputs": [],
   "source": [
    "def break_image(img):\n",
    "#    img=cv.imread(r\"Cheque120615.jpg\")\n",
    "   img=cv.cvtColor(img, cv.COLOR_BGR2GRAY)\n",
    "   _, img = cv.threshold(img, 150, 255, cv.THRESH_BINARY)\n",
    "   edged = cv.Canny(img, 150, 500)\n",
    "   contours, hierarchy = cv.findContours(edged, \n",
    "    cv.RETR_EXTERNAL, cv.CHAIN_APPROX_NONE) \n",
    "   cv.drawContours(img, contours, -1, (0, 255, 0), 2) \n",
    "   size=img.shape\n",
    "   # datebox=img[0:size[0]//5,size[1]-(size[1]//4):size[1]]\n",
    "   payee_name=img[size[0]//5:size[0]//2,50:(size[1]-(size[1]//5)-50)]\n",
    "   # bottom_box=img[size[0]-(size[0]//5):size[0],size[1]//5:size[1]-size[1]//5]\n",
    "   # amt_box=img[size[0]//3:size[0]//2,size[1]-(size[1]//3):size[1]]\n",
    "   # bank_name=img[0:size[0]//5,0:size[1]-(size[1]//3)]\n",
    "   #ac_no=img[size[0]//2:size[0]-(size[0]//5*2),0:size[1]]\n",
    "   ac_no=img[size[0]//2-25:size[0]-(size[0]//5*2),0:size[1]-(size[1]//3)]\n",
    "   sign_box=img[size[0]//2:size[0]-(size[0]//6),size[1]-(size[1]//3):size[1]]\n",
    "\n",
    "   parent_dir=os.getcwd()\n",
    "   image_dir=\"Images\"\n",
    "   path=os.path.join(parent_dir,image_dir)\n",
    "   if(not os.path.exists(path)):\n",
    "        os.mkdir(path)\n",
    "   \n",
    "   # cv.imwrite(os.path.join(path , 'Date.jpeg'), datebox)\n",
    "   # Date = m.azure_ocr_api(\"Date.jpeg\")\n",
    "\n",
    "   cv.imwrite(os.path.join(path , 'sign.jpeg'),sign_box)\n",
    "   # sign = m.azure_ocr_api(\"sign.jpeg\")\n",
    "   \n",
    "   # cv.imwrite(os.path.join(path , 'Payee_name.jpeg'),payee_name)\n",
    "   # Payee_name = m.azure_ocr_api(\"Payee_name.jpeg\")\n",
    "   \n",
    "   # cv.imwrite(os.path.join(path , 'Account_no.jpeg'),ac_no)\n",
    "   # Account_no = m.azure_ocr_api(\"Account_no.jpeg\")\n",
    "   \n",
    "   # cv.imwrite(os.path.join(path , 'Bank_name.jpeg'),bank_name)\n",
    "   # Bank_name = m.azure_ocr_api(\"Bank_name.jpeg\")\n",
    "   \n",
    "   # cv.imwrite(os.path.join(path , 'Bottom_digits.jpeg'),bottom_box)\n",
    "   # Bottom_digits = m.azure_ocr_api(\"Bottom_digits.jpeg\")\n",
    "   \n",
    "   # cv.imwrite(os.path.join(path , 'Amount.jpeg'),amt_box)\n",
    "   # Amount = m.azure_ocr_api(\"Amount.jpeg\")\n",
    "\n",
    "   cv.imwrite(os.path.join(path , 'finals.jpeg'), img)\n",
    "   cv.imwrite(os.path.join(path , 'payee.jpeg'), payee_name)\n",
    "   cv.imwrite(os.path.join(path , 'acc_no.jpeg'), ac_no)\n",
    "   final =[]\n",
    "   final3 = []\n",
    "   final,final3 = api.azure_ocr_api(\"finals.jpeg\")\n",
    "   payee_ocr,payee_detect = api.azure_ocr_api(\"payee.jpeg\")\n",
    "   ac_ocr,ac_detect = api.azure_ocr_api(\"acc_no.jpeg\")\n",
    "   return final,final3,payee_ocr,payee_detect,ac_ocr,ac_detect"
   ]
  },
  {
   "cell_type": "code",
   "execution_count": 3,
   "metadata": {},
   "outputs": [],
   "source": [
    "\n",
    "def process_image():\n",
    "   final1 =[]\n",
    "   fianl4 =[]\n",
    "   payee_ocr=[]\n",
    "   payee_detect=[]\n",
    "   ac_ocr=[]\n",
    "   ac_detect=[]\n",
    "   img=cv.imread(r\"Cheque100828.jpg\")\n",
    "   size=img.shape\n",
    "   final1,final4,payee_ocr,payee_detect,ac_ocr,ac_detect = break_image(img)\n",
    "   return final1,final4,payee_ocr,payee_detect,ac_ocr,ac_detect,size"
   ]
  },
  {
   "cell_type": "code",
   "execution_count": 4,
   "metadata": {},
   "outputs": [],
   "source": [
    "\n",
    "cheque_ocr = []\n",
    "cheque_detect = []\n",
    "payee_ocr=[]\n",
    "payee_detect=[]\n",
    "ac_ocr=[]\n",
    "ac_detect=[]\n",
    "size=[]\n",
    "\n",
    "cheque_ocr,cheque_detect,payee_ocr,payee_detect,ac_ocr,ac_detect,size = process_image()"
   ]
  },
  {
   "cell_type": "code",
   "execution_count": 5,
   "metadata": {},
   "outputs": [],
   "source": [
    "def create_partitions():\n",
    "    date_list=[]\n",
    "    amount_list=[]\n",
    "    bottom=[]\n",
    "    bank_name=[]\n",
    "    for i in cheque_detect:\n",
    "        x,w,y,h=int(i[0]),int(i[1]),int(i[4]),int(i[5])\n",
    "        if(i[4]>size[0]//5 and i[2]>size[1]-(size[1]//4) and i[7]<size[0]//5):\n",
    "            date_list.append(cheque_ocr[cheque_detect.index(i)])\n",
    "        if(i[4]>size[0]//5 and i[2]>size[1]-(size[1]//4) and i[7]>size[0]//5):\n",
    "            amount_list.append(cheque_ocr[cheque_detect.index(i)])\n",
    "        if(i[1]>size[0]-(size[0]//5)):\n",
    "            bottom.append(cheque_ocr[cheque_detect.index(i)])\n",
    "        if(i[7]<size[0]//5 and i[4]<size[1]-(size[1]//3)):\n",
    "            bank_name.append(cheque_ocr[cheque_detect.index(i)])\n",
    "        # if(i[1]>size[0]//6 and i[7]<size[0]//2):\n",
    "        #     payee.append(final2[final5.index(i)])\n",
    "    return date_list,amount_list,bottom,bank_name\n"
   ]
  },
  {
   "cell_type": "code",
   "execution_count": 6,
   "metadata": {},
   "outputs": [],
   "source": [
    "def extract_details():\n",
    "    bank=[]\n",
    "    date=[]\n",
    "    finaldigit=[]\n",
    "    finalamount=[]\n",
    "    finalifsc=[]\n",
    "    amount=[]\n",
    "    ifsc=[]\n",
    "    payee_name=[]\n",
    "    payee_amt=[]\n",
    "    flag=0\n",
    "    l=['one','two','three','four','five','six','seven','eight','nine']\n",
    "    ac=[]\n",
    "    date_list,amount_list,bottom,bank_name=create_partitions()\n",
    "    for i in date_list:\n",
    "        if(len(i)==1):\n",
    "          if(i.isdigit()):\n",
    "             date.append(i) \n",
    "        elif(len(i)>1):\n",
    "            for j in i:\n",
    "                if(j.isdigit()):\n",
    "                    date.append(j)\n",
    "    date=(''.join(date))\n",
    "    for i in date:\n",
    "        for j in i:\n",
    "            if(j.isdigit()):\n",
    "                finaldigit.append(j)\n",
    "    date=(''.join(finaldigit))\n",
    "    for i in amount_list:\n",
    "        if(\"₹\" in i ):\n",
    "            if(len(i)==1):\n",
    "                amount.append(amount_list[amount_list.index(i)+1]) \n",
    "            else:\n",
    "                amount.append(amount_list[amount_list.index(i)])\n",
    "    for i in amount:\n",
    "        for j in i:\n",
    "            if(j.isdigit()):\n",
    "                finalamount.append(j)\n",
    "        amount=(''.join(finalamount))\n",
    "    for i in bank_name:\n",
    "        if(\"bank\" in i.lower()):\n",
    "            bank.append(i)\n",
    "        elif(\"ifsc\" in i.lower() or \"ifs\" in i.lower()):\n",
    "            ifsc.append(i)\n",
    "    bank=(''.join(bank))\n",
    "    for i in payee_ocr:\n",
    "        if(\"pay\" in i.lower()):\n",
    "            for j in range(payee_ocr.index(i)+1,len(payee_ocr)):\n",
    "                x=payee_ocr[j]\n",
    "                if(\"rupees\" in x.lower() ):\n",
    "                    break\n",
    "                elif(x in l):\n",
    "                    break\n",
    "                payee_name.append(x)\n",
    "        if(\"rupees\" in i.lower() and \"रुपये\" not in payee_ocr[payee_ocr.index(i)+1].lower()):\n",
    "            payee_amt.append(payee_ocr[payee_ocr.index(i)+1])\n",
    "        elif(\"रुपये\" in i.lower()):\n",
    "            payee_amt.append(payee_ocr[payee_ocr.index(i)+1])\n",
    "    # for i in cheque_ocr:\n",
    "    #     if(\"rupees\" in i.lower()):\n",
    "    #         payee_amt.append(cheque_ocr[cheque_ocr.index(i)+1])\n",
    "    #         break\n",
    "    for i in ac_ocr:\n",
    "        for j in i:\n",
    "          if(j.isdigit()):\n",
    "            ac.append(j)\n",
    "    ac=(''.join(ac))\n",
    "    ifsc=(''.join(ifsc))\n",
    "    if(\":\" in ifsc.lower()):\n",
    "            d=ifsc.index(':')\n",
    "    if(\"-\" in ifsc.lower()):\n",
    "        d=ifsc.index('-')\n",
    "    finalifsc.append(ifsc[d+1:len(ifsc)])\n",
    "    ifsc=(''.join(finalifsc))\n",
    "    ifsc=ifsc.strip()\n",
    "    if(not amount):\n",
    "        for i in amount_list:\n",
    "            for j in i:\n",
    "                if(j.isdigit()):\n",
    "                    amount.append(j)\n",
    "        amount=(''.join(amount))\n",
    "    for i in bottom:\n",
    "        if(\"⑈\" in i):\n",
    "            d=i.index(\"⑈\",1,len(i))\n",
    "            leaf_no=i[1:d]\n",
    "            break\n",
    "    if(not payee_name):\n",
    "        d=cheque_ocr.index(\"Pay\")\n",
    "        payee_name.append(cheque_ocr[d+1])\n",
    "    # finalpayee=[]\n",
    "    # if(len(payee_name)>1):\n",
    "    #     temp=payee_name[0]\n",
    "    #     d=cheque_ocr.index(temp)\n",
    "    #     for i in range(d,len(cheque_ocr)):\n",
    "    #         if(\"bearer\" in cheque_ocr[i].lower()):\n",
    "    #             break\n",
    "    #         finalpayee.append(cheque_ocr[i])\n",
    "    return date,amount,bank,ifsc,payee_name,payee_amt,ac,leaf_no"
   ]
  },
  {
   "cell_type": "code",
   "execution_count": 7,
   "metadata": {},
   "outputs": [
    {
     "name": "stdout",
     "output_type": "stream",
     "text": [
      "25012016 22230001 ICICI Bank ICICOREY ['Kumar Raw Palli'] ['twenty Two lach Twenty three the'] 35630801551452 100828\n"
     ]
    }
   ],
   "source": [
    "date=[]\n",
    "amount=[]\n",
    "bank=[]\n",
    "ifsc=[]\n",
    "payee_name=[]\n",
    "payee_amt=[]\n",
    "ac=[]\n",
    "date,amount,bank,ifsc,payee_name,payee_amt,ac,leaf_no=extract_details()\n",
    "print(date,amount,bank,ifsc,payee_name,payee_amt,ac,leaf_no)"
   ]
  },
  {
   "cell_type": "code",
   "execution_count": 83,
   "metadata": {},
   "outputs": [
    {
     "name": "stdout",
     "output_type": "stream",
     "text": [
      "['TODA BANK OF BA', 'B', 'बैंक ऑफ़ बड़ौदा', 'बर्रा वर्ल्ड बैंक कानपुर - २०८०२४', \"जारी की गई तारीख से तीन माह के लिए वैद्य' VALID FOR THREE MONTHS FROM THE DATE OF ISSUE\", 'Bank of Baroda', 'Bara World Bank, Kanpur - 208 027', 'CBS', '27102022', 'ATGS / NEFT IFSC CODE: BARBOBARRAW', 'HOT UTGIT /SAVINGS ACCOUNT D D M MY Y Y Y', 'Pay', 'Azubhav Yadav', 'Or Bearer', 'Rupees रुपये ......', 'Twenty thousand only.', 'या धारक को', 'अदा करें', '₹', '20,000/-', 'खा. सं.', 'A/c No.', '39880100001236', 'गीता द्वी', 'KO', 'AUDI BANK', 'RODA BA', 'भारत की सभी शाखाओं में सममूल्यपर देय', 'BAROD', 'SB/2012/SE', 'Payable at par at all branches in India', 'BBW', 'AROD', 'GEETA DEVI', 'COF BAROD', '-', 'TANK O', 'Please sign above', '⑈000029⑈ 208012071⑆ 001236⑈ 31']\n"
     ]
    }
   ],
   "source": [
    "print(cheque_ocr)"
   ]
  },
  {
   "cell_type": "code",
   "execution_count": 104,
   "metadata": {},
   "outputs": [
    {
     "name": "stdout",
     "output_type": "stream",
     "text": [
      "['Anubhav Yadav', 'ay', 'upees रुपये', 'Twenty thousand only', 'अदा करें', '₹']\n"
     ]
    }
   ],
   "source": [
    "print(payee_ocr)"
   ]
  },
  {
   "cell_type": "code",
   "execution_count": 7,
   "metadata": {},
   "outputs": [
    {
     "name": "stdout",
     "output_type": "stream",
     "text": [
      "30000000\n",
      "       account_no  current_amount  cheque_issued\n",
      "3  39880100001236        30000000           50.0\n"
     ]
    }
   ],
   "source": [
    "import os\n",
    "import cv2 as cv\n",
    "import pandas as pd\n",
    "\n",
    "ac=int(39880100001236)\n",
    "db=pd.read_csv(r\"chequedb12.csv\")\n",
    "db1=db.loc[db['account_no']==ac]\n",
    "\n",
    "curr_amt=int(db1['current_amount'].values)\n",
    "print(curr_amt)\n",
    "db.head()\n",
    "print(db1)"
   ]
  },
  {
   "cell_type": "code",
   "execution_count": 2,
   "metadata": {},
   "outputs": [
    {
     "ename": "ValueError",
     "evalue": "The truth value of a Series is ambiguous. Use a.empty, a.bool(), a.item(), a.any() or a.all().",
     "output_type": "error",
     "traceback": [
      "\u001b[1;31m---------------------------------------------------------------------------\u001b[0m",
      "\u001b[1;31mValueError\u001b[0m                                Traceback (most recent call last)",
      "\u001b[1;32m<ipython-input-2-8010a313b0ee>\u001b[0m in \u001b[0;36m<module>\u001b[1;34m\u001b[0m\n\u001b[1;32m----> 1\u001b[1;33m \u001b[1;32mif\u001b[0m\u001b[1;33m(\u001b[0m\u001b[0mcurr_amt\u001b[0m\u001b[1;33m<\u001b[0m\u001b[1;36m200\u001b[0m\u001b[1;33m)\u001b[0m\u001b[1;33m:\u001b[0m\u001b[1;33m\u001b[0m\u001b[1;33m\u001b[0m\u001b[0m\n\u001b[0m\u001b[0;32m      2\u001b[0m     \u001b[0mprint\u001b[0m\u001b[1;33m(\u001b[0m\u001b[1;34m\"h\"\u001b[0m\u001b[1;33m)\u001b[0m\u001b[1;33m\u001b[0m\u001b[1;33m\u001b[0m\u001b[0m\n",
      "\u001b[1;32mc:\\Users\\Hp\\anaconda3\\envs\\env_dlib\\lib\\site-packages\\pandas\\core\\generic.py\u001b[0m in \u001b[0;36m__nonzero__\u001b[1;34m(self)\u001b[0m\n\u001b[0;32m   1328\u001b[0m     \u001b[1;32mdef\u001b[0m \u001b[0m__nonzero__\u001b[0m\u001b[1;33m(\u001b[0m\u001b[0mself\u001b[0m\u001b[1;33m)\u001b[0m\u001b[1;33m:\u001b[0m\u001b[1;33m\u001b[0m\u001b[1;33m\u001b[0m\u001b[0m\n\u001b[0;32m   1329\u001b[0m         raise ValueError(\n\u001b[1;32m-> 1330\u001b[1;33m             \u001b[1;34mf\"The truth value of a {type(self).__name__} is ambiguous. \"\u001b[0m\u001b[1;33m\u001b[0m\u001b[1;33m\u001b[0m\u001b[0m\n\u001b[0m\u001b[0;32m   1331\u001b[0m             \u001b[1;34m\"Use a.empty, a.bool(), a.item(), a.any() or a.all().\"\u001b[0m\u001b[1;33m\u001b[0m\u001b[1;33m\u001b[0m\u001b[0m\n\u001b[0;32m   1332\u001b[0m         )\n",
      "\u001b[1;31mValueError\u001b[0m: The truth value of a Series is ambiguous. Use a.empty, a.bool(), a.item(), a.any() or a.all()."
     ]
    }
   ],
   "source": [
    "if(curr_amt<200):\n",
    "    print(\"h\")"
   ]
  },
  {
   "cell_type": "code",
   "execution_count": null,
   "metadata": {},
   "outputs": [],
   "source": []
  }
 ],
 "metadata": {
  "kernelspec": {
   "display_name": "Python 3.6.13 ('env_dlib')",
   "language": "python",
   "name": "python3"
  },
  "language_info": {
   "codemirror_mode": {
    "name": "ipython",
    "version": 3
   },
   "file_extension": ".py",
   "mimetype": "text/x-python",
   "name": "python",
   "nbconvert_exporter": "python",
   "pygments_lexer": "ipython3",
   "version": "3.6.13"
  },
  "orig_nbformat": 4,
  "vscode": {
   "interpreter": {
    "hash": "79ea709926dd9033e307b0954144336d5fdd1d5f0274cd2fbe6b2c49d60dde32"
   }
  }
 },
 "nbformat": 4,
 "nbformat_minor": 2
}
